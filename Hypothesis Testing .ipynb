{
 "cells": [
  {
   "cell_type": "markdown",
   "id": "16bc8e7b",
   "metadata": {
    "heading_collapsed": true
   },
   "source": [
    "# hypothesis Testing (CORE)\n",
    "**Marco Jimenez 7/13/2022**"
   ]
  },
  {
   "cell_type": "code",
   "execution_count": 247,
   "id": "b5f38037",
   "metadata": {
    "hidden": true
   },
   "outputs": [],
   "source": [
    "import pandas as pd\n",
    "import numpy as np\n",
    "import seaborn as sns\n",
    "import matplotlib.pyplot as plt\n",
    "import scipy.stats as stats\n",
    "from statsmodels.stats.multicomp import pairwise_tukeyhsd"
   ]
  },
  {
   "cell_type": "code",
   "execution_count": 248,
   "id": "25b32a1f",
   "metadata": {
    "hidden": true
   },
   "outputs": [
    {
     "data": {
      "text/html": [
       "<div>\n",
       "<style scoped>\n",
       "    .dataframe tbody tr th:only-of-type {\n",
       "        vertical-align: middle;\n",
       "    }\n",
       "\n",
       "    .dataframe tbody tr th {\n",
       "        vertical-align: top;\n",
       "    }\n",
       "\n",
       "    .dataframe thead th {\n",
       "        text-align: right;\n",
       "    }\n",
       "</style>\n",
       "<table border=\"1\" class=\"dataframe\">\n",
       "  <thead>\n",
       "    <tr style=\"text-align: right;\">\n",
       "      <th></th>\n",
       "      <th>age</th>\n",
       "      <th>sex</th>\n",
       "      <th>bmi</th>\n",
       "      <th>children</th>\n",
       "      <th>smoker</th>\n",
       "      <th>region</th>\n",
       "      <th>charges</th>\n",
       "    </tr>\n",
       "  </thead>\n",
       "  <tbody>\n",
       "    <tr>\n",
       "      <th>0</th>\n",
       "      <td>19</td>\n",
       "      <td>female</td>\n",
       "      <td>27.900</td>\n",
       "      <td>0</td>\n",
       "      <td>yes</td>\n",
       "      <td>southwest</td>\n",
       "      <td>16884.92400</td>\n",
       "    </tr>\n",
       "    <tr>\n",
       "      <th>1</th>\n",
       "      <td>18</td>\n",
       "      <td>male</td>\n",
       "      <td>33.770</td>\n",
       "      <td>1</td>\n",
       "      <td>no</td>\n",
       "      <td>southeast</td>\n",
       "      <td>1725.55230</td>\n",
       "    </tr>\n",
       "    <tr>\n",
       "      <th>2</th>\n",
       "      <td>28</td>\n",
       "      <td>male</td>\n",
       "      <td>33.000</td>\n",
       "      <td>3</td>\n",
       "      <td>no</td>\n",
       "      <td>southeast</td>\n",
       "      <td>4449.46200</td>\n",
       "    </tr>\n",
       "    <tr>\n",
       "      <th>3</th>\n",
       "      <td>33</td>\n",
       "      <td>male</td>\n",
       "      <td>22.705</td>\n",
       "      <td>0</td>\n",
       "      <td>no</td>\n",
       "      <td>northwest</td>\n",
       "      <td>21984.47061</td>\n",
       "    </tr>\n",
       "    <tr>\n",
       "      <th>4</th>\n",
       "      <td>32</td>\n",
       "      <td>male</td>\n",
       "      <td>28.880</td>\n",
       "      <td>0</td>\n",
       "      <td>no</td>\n",
       "      <td>northwest</td>\n",
       "      <td>3866.85520</td>\n",
       "    </tr>\n",
       "  </tbody>\n",
       "</table>\n",
       "</div>"
      ],
      "text/plain": [
       "   age     sex     bmi  children smoker     region      charges\n",
       "0   19  female  27.900         0    yes  southwest  16884.92400\n",
       "1   18    male  33.770         1     no  southeast   1725.55230\n",
       "2   28    male  33.000         3     no  southeast   4449.46200\n",
       "3   33    male  22.705         0     no  northwest  21984.47061\n",
       "4   32    male  28.880         0     no  northwest   3866.85520"
      ]
     },
     "execution_count": 248,
     "metadata": {},
     "output_type": "execute_result"
    }
   ],
   "source": [
    "# Loading data\n",
    "df = pd.read_csv('Data/insurance.csv') \n",
    "df.head()"
   ]
  },
  {
   "cell_type": "markdown",
   "id": "0c911bfa",
   "metadata": {
    "heading_collapsed": true
   },
   "source": [
    "# Q1. Do smokers have higher insurance charges than non-smokers?"
   ]
  },
  {
   "cell_type": "markdown",
   "id": "c89ef8f8",
   "metadata": {
    "hidden": true
   },
   "source": [
    "- $H_0$ (Null Hypothesis): Insurance charges are the same for smokers and non-smokers\n",
    "- $H_A$ (Alternative Hypothesis): Insurance charges are significantly different for smokers and non-smokers\n",
    "\n",
    "The appropriate test for this hypothesis is a 2 Sample T-Test with the following assumptions\n",
    "   - No significant outliers\n",
    "   - Normality\n",
    "   - Equal Variance"
   ]
  },
  {
   "cell_type": "markdown",
   "id": "ad01101b",
   "metadata": {
    "heading_collapsed": true,
    "hidden": true
   },
   "source": [
    "## Creating groups"
   ]
  },
  {
   "cell_type": "code",
   "execution_count": 249,
   "id": "732d5eda",
   "metadata": {
    "hidden": true
   },
   "outputs": [
    {
     "data": {
      "text/html": [
       "<div>\n",
       "<style scoped>\n",
       "    .dataframe tbody tr th:only-of-type {\n",
       "        vertical-align: middle;\n",
       "    }\n",
       "\n",
       "    .dataframe tbody tr th {\n",
       "        vertical-align: top;\n",
       "    }\n",
       "\n",
       "    .dataframe thead th {\n",
       "        text-align: right;\n",
       "    }\n",
       "</style>\n",
       "<table border=\"1\" class=\"dataframe\">\n",
       "  <thead>\n",
       "    <tr style=\"text-align: right;\">\n",
       "      <th></th>\n",
       "      <th>age</th>\n",
       "      <th>sex</th>\n",
       "      <th>bmi</th>\n",
       "      <th>children</th>\n",
       "      <th>smoker</th>\n",
       "      <th>region</th>\n",
       "      <th>charges</th>\n",
       "      <th>is_smoker</th>\n",
       "    </tr>\n",
       "  </thead>\n",
       "  <tbody>\n",
       "    <tr>\n",
       "      <th>0</th>\n",
       "      <td>19</td>\n",
       "      <td>female</td>\n",
       "      <td>27.900</td>\n",
       "      <td>0</td>\n",
       "      <td>yes</td>\n",
       "      <td>southwest</td>\n",
       "      <td>16884.92400</td>\n",
       "      <td>True</td>\n",
       "    </tr>\n",
       "    <tr>\n",
       "      <th>1</th>\n",
       "      <td>18</td>\n",
       "      <td>male</td>\n",
       "      <td>33.770</td>\n",
       "      <td>1</td>\n",
       "      <td>no</td>\n",
       "      <td>southeast</td>\n",
       "      <td>1725.55230</td>\n",
       "      <td>False</td>\n",
       "    </tr>\n",
       "    <tr>\n",
       "      <th>2</th>\n",
       "      <td>28</td>\n",
       "      <td>male</td>\n",
       "      <td>33.000</td>\n",
       "      <td>3</td>\n",
       "      <td>no</td>\n",
       "      <td>southeast</td>\n",
       "      <td>4449.46200</td>\n",
       "      <td>False</td>\n",
       "    </tr>\n",
       "    <tr>\n",
       "      <th>3</th>\n",
       "      <td>33</td>\n",
       "      <td>male</td>\n",
       "      <td>22.705</td>\n",
       "      <td>0</td>\n",
       "      <td>no</td>\n",
       "      <td>northwest</td>\n",
       "      <td>21984.47061</td>\n",
       "      <td>False</td>\n",
       "    </tr>\n",
       "    <tr>\n",
       "      <th>4</th>\n",
       "      <td>32</td>\n",
       "      <td>male</td>\n",
       "      <td>28.880</td>\n",
       "      <td>0</td>\n",
       "      <td>no</td>\n",
       "      <td>northwest</td>\n",
       "      <td>3866.85520</td>\n",
       "      <td>False</td>\n",
       "    </tr>\n",
       "  </tbody>\n",
       "</table>\n",
       "</div>"
      ],
      "text/plain": [
       "   age     sex     bmi  children smoker     region      charges  is_smoker\n",
       "0   19  female  27.900         0    yes  southwest  16884.92400       True\n",
       "1   18    male  33.770         1     no  southeast   1725.55230      False\n",
       "2   28    male  33.000         3     no  southeast   4449.46200      False\n",
       "3   33    male  22.705         0     no  northwest  21984.47061      False\n",
       "4   32    male  28.880         0     no  northwest   3866.85520      False"
      ]
     },
     "execution_count": 249,
     "metadata": {},
     "output_type": "execute_result"
    }
   ],
   "source": [
    "df['is_smoker'] = df['smoker'].str.contains('yes', case=False)\n",
    "df.head()"
   ]
  },
  {
   "cell_type": "code",
   "execution_count": 250,
   "id": "4c4ae1d1",
   "metadata": {
    "hidden": true
   },
   "outputs": [
    {
     "name": "stdout",
     "output_type": "stream",
     "text": [
      "There are 274 smokers.\n",
      "There are 1064 non smokers.\n"
     ]
    }
   ],
   "source": [
    "# Separating groups into two variables\n",
    "smokers = df.loc[df['is_smoker']==True, ['charges','is_smoker']]\n",
    "non_smoker = df.loc[df['is_smoker']==False, ['charges','is_smoker']]\n",
    "\n",
    "print(f\"There are {len(smokers)} smokers.\" )\n",
    "print(f\"There are {len(non_smokers)} non smokers.\" )"
   ]
  },
  {
   "cell_type": "code",
   "execution_count": 251,
   "id": "ec83665a",
   "metadata": {
    "hidden": true
   },
   "outputs": [],
   "source": [
    "# Creating features for testing\n",
    "smokers_grp = smokers['charges']\n",
    "non_smokers_grp = non_smoker['charges']"
   ]
  },
  {
   "cell_type": "markdown",
   "id": "f707b7cc",
   "metadata": {
    "heading_collapsed": true,
    "hidden": true
   },
   "source": [
    "## 2 Sample t-test"
   ]
  },
  {
   "cell_type": "markdown",
   "id": "4cae3fa5",
   "metadata": {
    "heading_collapsed": true,
    "hidden": true
   },
   "source": [
    "### Assumption 1: No significant outliers"
   ]
  },
  {
   "cell_type": "code",
   "execution_count": 252,
   "id": "e3b2c5a3",
   "metadata": {
    "hidden": true
   },
   "outputs": [
    {
     "data": {
      "text/plain": [
       "0"
      ]
     },
     "execution_count": 252,
     "metadata": {},
     "output_type": "execute_result"
    }
   ],
   "source": [
    "# Testing for outliers in smokers group\n",
    "outliers_y = np.abs(stats.zscore(smokers_grp)) > 3\n",
    "outliers_y.sum()"
   ]
  },
  {
   "cell_type": "code",
   "execution_count": 253,
   "id": "3a1014f6",
   "metadata": {
    "hidden": true
   },
   "outputs": [
    {
     "data": {
      "text/plain": [
       "24"
      ]
     },
     "execution_count": 253,
     "metadata": {},
     "output_type": "execute_result"
    }
   ],
   "source": [
    "# Testing for outliers in non_smokers group\n",
    "outliers_n = np.abs(stats.zscore(non_smokers_grp)) > 3\n",
    "outliers_n.sum()"
   ]
  },
  {
   "cell_type": "code",
   "execution_count": 254,
   "id": "0e3b079d",
   "metadata": {
    "hidden": true
   },
   "outputs": [
    {
     "data": {
      "text/plain": [
       "1        1725.55230\n",
       "2        4449.46200\n",
       "3       21984.47061\n",
       "4        3866.85520\n",
       "5        3756.62160\n",
       "           ...     \n",
       "1332    11411.68500\n",
       "1333    10600.54830\n",
       "1334     2205.98080\n",
       "1335     1629.83350\n",
       "1336     2007.94500\n",
       "Name: charges, Length: 1040, dtype: float64"
      ]
     },
     "execution_count": 254,
     "metadata": {},
     "output_type": "execute_result"
    }
   ],
   "source": [
    "# Removing outliers from non_smokers group\n",
    "non_smokers_grp.loc[~outliers_n]"
   ]
  },
  {
   "cell_type": "markdown",
   "id": "212d9f30",
   "metadata": {
    "hidden": true
   },
   "source": [
    "> The outliers have been removed and now the data meets the assumption of no outliers"
   ]
  },
  {
   "cell_type": "markdown",
   "id": "b47d0259",
   "metadata": {
    "heading_collapsed": true,
    "hidden": true
   },
   "source": [
    "### Assumption 2: Normality"
   ]
  },
  {
   "cell_type": "code",
   "execution_count": 255,
   "id": "59edd2dd",
   "metadata": {
    "hidden": true
   },
   "outputs": [
    {
     "name": "stdout",
     "output_type": "stream",
     "text": [
      "NormaltestResult(statistic=61.03941356533816, pvalue=5.564930630036463e-14)\n"
     ]
    },
    {
     "data": {
      "text/plain": [
       "True"
      ]
     },
     "execution_count": 255,
     "metadata": {},
     "output_type": "execute_result"
    }
   ],
   "source": [
    "# Checking distribution in smokers group\n",
    "result = stats.normaltest(smokers_grp)\n",
    "print(result)\n",
    "result.pvalue < .05 "
   ]
  },
  {
   "cell_type": "code",
   "execution_count": 256,
   "id": "6a3d21bf",
   "metadata": {
    "hidden": true
   },
   "outputs": [
    {
     "name": "stdout",
     "output_type": "stream",
     "text": [
      "NormaltestResult(statistic=316.4528082392722, pvalue=1.9193129759002216e-69)\n"
     ]
    },
    {
     "data": {
      "text/plain": [
       "True"
      ]
     },
     "execution_count": 256,
     "metadata": {},
     "output_type": "execute_result"
    }
   ],
   "source": [
    "# Checking distribution in smokers group\n",
    "result = stats.normaltest(non_smokers_grp)\n",
    "print(result)\n",
    "result.pvalue < .05 "
   ]
  },
  {
   "cell_type": "markdown",
   "id": "b256360e",
   "metadata": {
    "hidden": true
   },
   "source": [
    "> Both groups returned a p-value that is less than .05. I therefore conclude that the assumption was not met and that the groups are NOT normally distributed. However, according to the hypothesis testing guide, the sample sizes are large enough to proceed without meeting the assumption of normal distribution."
   ]
  },
  {
   "cell_type": "markdown",
   "id": "349d0d3c",
   "metadata": {
    "hidden": true
   },
   "source": [
    "### Assumption 3: Equal Variance"
   ]
  },
  {
   "cell_type": "code",
   "execution_count": 257,
   "id": "7c681403",
   "metadata": {
    "hidden": true
   },
   "outputs": [
    {
     "name": "stdout",
     "output_type": "stream",
     "text": [
      "LeveneResult(statistic=332.6135162726081, pvalue=1.5593284881803726e-66)\n"
     ]
    },
    {
     "data": {
      "text/plain": [
       "True"
      ]
     },
     "execution_count": 257,
     "metadata": {},
     "output_type": "execute_result"
    }
   ],
   "source": [
    "# Checking variance w/ stats.levene test\n",
    "result = stats.levene(smokers_grp, non_smokers_grp)\n",
    "print(result)\n",
    "result.pvalue<.05"
   ]
  },
  {
   "cell_type": "markdown",
   "id": "5ba3b3b7",
   "metadata": {
    "hidden": true
   },
   "source": [
    "> The stats.levene test returned a p-value that is less than .05. I therefore conclude that the assumption was not met and that the two groups do NOT have equal variance."
   ]
  },
  {
   "cell_type": "markdown",
   "id": "9b6c86a8",
   "metadata": {
    "heading_collapsed": true,
    "hidden": true
   },
   "source": [
    "## Statistical Test"
   ]
  },
  {
   "cell_type": "markdown",
   "id": "6d2f924a",
   "metadata": {
    "hidden": true
   },
   "source": [
    "> Since the two groups did not meet the assumption of equal variance, I will run the stats.ttest using equal_var=False, making it a Welch's T-test to account for the unequal variance"
   ]
  },
  {
   "cell_type": "code",
   "execution_count": 258,
   "id": "e929b748",
   "metadata": {
    "hidden": true
   },
   "outputs": [
    {
     "name": "stdout",
     "output_type": "stream",
     "text": [
      "Ttest_indResult(statistic=32.751887766341824, pvalue=5.88946444671698e-103)\n"
     ]
    },
    {
     "data": {
      "text/plain": [
       "True"
      ]
     },
     "execution_count": 258,
     "metadata": {},
     "output_type": "execute_result"
    }
   ],
   "source": [
    "result = stats.ttest_ind(smokers_grp, non_smokers_grp, equal_var=False)\n",
    "print(result)\n",
    "result.pvalue<.05"
   ]
  },
  {
   "cell_type": "markdown",
   "id": "53ba1e12",
   "metadata": {
    "heading_collapsed": true,
    "hidden": true
   },
   "source": [
    "## Q1 Conclusion"
   ]
  },
  {
   "cell_type": "markdown",
   "id": "fbfa1b7c",
   "metadata": {
    "hidden": true
   },
   "source": [
    "- The Welch's T-test returned a p-value that is less than .05. I therefore reject the null hypothesis and support the alternative hypothesis that Insurance charges are significantly different for smokers and non-smokers."
   ]
  },
  {
   "cell_type": "code",
   "execution_count": 259,
   "id": "8a23f03a",
   "metadata": {
    "hidden": true
   },
   "outputs": [
    {
     "name": "stdout",
     "output_type": "stream",
     "text": [
      "Average insurance charges for smokers 32050.23\n",
      "Average insurance charges for non_smokers 8434.27\n"
     ]
    }
   ],
   "source": [
    "# Displaying average insurance charges for each group\n",
    "print(f'Average insurance charges for smokers {smokers_grp.mean():.2f}')\n",
    "print(f'Average insurance charges for non_smokers {non_smokers_grp.mean():.2f}')"
   ]
  },
  {
   "cell_type": "markdown",
   "id": "cdaaf04e",
   "metadata": {
    "hidden": true
   },
   "source": [
    "> Smokers on average are charged significantly higher amounts than non smokers"
   ]
  },
  {
   "cell_type": "code",
   "execution_count": 260,
   "id": "0485c486",
   "metadata": {
    "hidden": true
   },
   "outputs": [
    {
     "data": {
      "text/plain": [
       "<matplotlib.axes._subplots.AxesSubplot at 0x22f7fcd4c08>"
      ]
     },
     "execution_count": 260,
     "metadata": {},
     "output_type": "execute_result"
    },
    {
     "data": {
      "image/png": "[encoded data removed]",
      "text/plain": [
       "<Figure size 432x288 with 1 Axes>"
      ]
     },
     "metadata": {
      "needs_background": "light"
     },
     "output_type": "display_data"
    }
   ],
   "source": [
    "# Visualizing the difference\n",
    "plot = pd.concat([smokers.loc[~outliers_y],\n",
    "                  non_smoker.loc[~outliers_n]])\n",
    "sns.barplot(data=plot, x='is_smoker', y='charges')"
   ]
  },
  {
   "cell_type": "markdown",
   "id": "ed2c3cca",
   "metadata": {
    "heading_collapsed": true
   },
   "source": [
    "# Q2. Are men more likely to smoke than women?"
   ]
  },
  {
   "cell_type": "markdown",
   "id": "c82407dc",
   "metadata": {
    "hidden": true
   },
   "source": [
    "- $H_0$ (Null Hypothesis): There is no relationship between sex and if someone is a smoker.\n",
    "- $H_A$ (Alternative Hypothesis): A persons sex influences whether or not they are a smoker.\n",
    "\n",
    "The appropriate test for this hypothesis is a Chi-Squared test with the following assumptions\n",
    "   - There are two categorical values(ordinal or nominal)\n",
    "   - The outcomes are independent"
   ]
  },
  {
   "cell_type": "markdown",
   "id": "b474cbb7",
   "metadata": {
    "hidden": true
   },
   "source": [
    "### Chi-Squared Test"
   ]
  },
  {
   "cell_type": "code",
   "execution_count": 261,
   "id": "ca7b4e31",
   "metadata": {
    "hidden": true
   },
   "outputs": [
    {
     "data": {
      "image/png": "[encoded data removed]",
      "text/plain": [
       "<Figure size 432x288 with 1 Axes>"
      ]
     },
     "metadata": {
      "needs_background": "light"
     },
     "output_type": "display_data"
    }
   ],
   "source": [
    "# Visualizing smokers grouped by sex\n",
    "ax = sns.countplot(data=df, x='sex',hue='smoker',)\n",
    "ax.set_title(\"Number of Smokers by Sex\");"
   ]
  },
  {
   "cell_type": "code",
   "execution_count": 262,
   "id": "9099e93a",
   "metadata": {
    "hidden": true
   },
   "outputs": [
    {
     "data": {
      "text/html": [
       "<div>\n",
       "<style scoped>\n",
       "    .dataframe tbody tr th:only-of-type {\n",
       "        vertical-align: middle;\n",
       "    }\n",
       "\n",
       "    .dataframe tbody tr th {\n",
       "        vertical-align: top;\n",
       "    }\n",
       "\n",
       "    .dataframe thead th {\n",
       "        text-align: right;\n",
       "    }\n",
       "</style>\n",
       "<table border=\"1\" class=\"dataframe\">\n",
       "  <thead>\n",
       "    <tr style=\"text-align: right;\">\n",
       "      <th>smoker</th>\n",
       "      <th>no</th>\n",
       "      <th>yes</th>\n",
       "    </tr>\n",
       "    <tr>\n",
       "      <th>sex</th>\n",
       "      <th></th>\n",
       "      <th></th>\n",
       "    </tr>\n",
       "  </thead>\n",
       "  <tbody>\n",
       "    <tr>\n",
       "      <th>female</th>\n",
       "      <td>547</td>\n",
       "      <td>115</td>\n",
       "    </tr>\n",
       "    <tr>\n",
       "      <th>male</th>\n",
       "      <td>517</td>\n",
       "      <td>159</td>\n",
       "    </tr>\n",
       "  </tbody>\n",
       "</table>\n",
       "</div>"
      ],
      "text/plain": [
       "smoker   no  yes\n",
       "sex             \n",
       "female  547  115\n",
       "male    517  159"
      ]
     },
     "execution_count": 262,
     "metadata": {},
     "output_type": "execute_result"
    }
   ],
   "source": [
    "# Calculating contingency table\n",
    "table = pd.crosstab(df['sex'], df['smoker'])\n",
    "table"
   ]
  },
  {
   "cell_type": "code",
   "execution_count": 263,
   "id": "b84c65c9",
   "metadata": {
    "hidden": true
   },
   "outputs": [],
   "source": [
    "# Running stats.chi2 test and saving output\n",
    "result = stats.chi2_contingency(table)\n",
    "chi2, p, deg_free, expected_vals = result"
   ]
  },
  {
   "cell_type": "code",
   "execution_count": 264,
   "id": "7948c480",
   "metadata": {
    "hidden": true
   },
   "outputs": [
    {
     "name": "stdout",
     "output_type": "stream",
     "text": [
      "0.006548143503580696\n"
     ]
    },
    {
     "data": {
      "text/plain": [
       "True"
      ]
     },
     "execution_count": 264,
     "metadata": {},
     "output_type": "execute_result"
    }
   ],
   "source": [
    "# Checking p-value after test\n",
    "print(p)\n",
    "p<.05"
   ]
  },
  {
   "cell_type": "markdown",
   "id": "e4143fa0",
   "metadata": {
    "hidden": true
   },
   "source": [
    "## Conclusion"
   ]
  },
  {
   "cell_type": "markdown",
   "id": "eda64965",
   "metadata": {
    "hidden": true
   },
   "source": [
    "- The Chi-Squared test returned a p-value that is less than .05. I therefore reject the null hypothesis and support the alternative hypothesis that a persons sex influences whether or not they are a smoker."
   ]
  },
  {
   "cell_type": "markdown",
   "id": "f9bc8460",
   "metadata": {
    "heading_collapsed": true
   },
   "source": [
    "# Q3. Do different regions have different charges, on average?"
   ]
  },
  {
   "cell_type": "markdown",
   "id": "49cd092d",
   "metadata": {
    "hidden": true
   },
   "source": [
    "- $H_0$ (Null Hypothesis): There is no difference in insurance charges based on region.\n",
    "- $H_A$ (Alternative Hypothesis): There is a significant difference in insurance charges based on region.\n",
    "\n",
    "The appropriate test for this hypothesis is a One Way ANOVA test with the following assumptions\n",
    "   - Normality\n",
    "   - Equal Variance\n",
    "   - No significant outliers"
   ]
  },
  {
   "cell_type": "code",
   "execution_count": 265,
   "id": "6d541955",
   "metadata": {
    "hidden": true
   },
   "outputs": [
    {
     "data": {
      "image/png": "[encoded data removed]",
      "text/plain": [
       "<Figure size 432x288 with 1 Axes>"
      ]
     },
     "metadata": {
      "needs_background": "light"
     },
     "output_type": "display_data"
    }
   ],
   "source": [
    "# Visualizing the groups\n",
    "sns.barplot(data=df, x='region', y='charges');"
   ]
  },
  {
   "cell_type": "code",
   "execution_count": 266,
   "id": "a454f6e3",
   "metadata": {
    "hidden": true
   },
   "outputs": [
    {
     "data": {
      "text/plain": [
       "dict_keys(['southwest', 'southeast', 'northwest', 'northeast'])"
      ]
     },
     "execution_count": 266,
     "metadata": {},
     "output_type": "execute_result"
    }
   ],
   "source": [
    "# Creating a dictionary for the groups\n",
    "groups = {}\n",
    "# Looping through all unique categories\n",
    "for i in df['region'].unique():\n",
    "    # Getting series for group and rename\n",
    "    data = df.loc[df['region']==i,'charges'].copy()\n",
    "    \n",
    "    # Saving to dictionary\n",
    "    groups[i] = data\n",
    "groups.keys()"
   ]
  },
  {
   "cell_type": "markdown",
   "id": "58fec46f",
   "metadata": {
    "heading_collapsed": true,
    "hidden": true
   },
   "source": [
    "## Testing Assumptions"
   ]
  },
  {
   "cell_type": "markdown",
   "id": "67006004",
   "metadata": {
    "heading_collapsed": true,
    "hidden": true
   },
   "source": [
    "### Assumption 1: Normality"
   ]
  },
  {
   "cell_type": "code",
   "execution_count": 267,
   "id": "f165bd45",
   "metadata": {
    "hidden": true
   },
   "outputs": [
    {
     "data": {
      "text/html": [
       "<div>\n",
       "<style scoped>\n",
       "    .dataframe tbody tr th:only-of-type {\n",
       "        vertical-align: middle;\n",
       "    }\n",
       "\n",
       "    .dataframe tbody tr th {\n",
       "        vertical-align: top;\n",
       "    }\n",
       "\n",
       "    .dataframe thead th {\n",
       "        text-align: right;\n",
       "    }\n",
       "</style>\n",
       "<table border=\"1\" class=\"dataframe\">\n",
       "  <thead>\n",
       "    <tr style=\"text-align: right;\">\n",
       "      <th></th>\n",
       "      <th>n</th>\n",
       "      <th>p</th>\n",
       "      <th>test stat</th>\n",
       "    </tr>\n",
       "  </thead>\n",
       "  <tbody>\n",
       "    <tr>\n",
       "      <th>southwest</th>\n",
       "      <td>325.0</td>\n",
       "      <td>6.125298e-23</td>\n",
       "      <td>102.294059</td>\n",
       "    </tr>\n",
       "    <tr>\n",
       "      <th>southeast</th>\n",
       "      <td>364.0</td>\n",
       "      <td>4.953297e-15</td>\n",
       "      <td>65.877446</td>\n",
       "    </tr>\n",
       "    <tr>\n",
       "      <th>northwest</th>\n",
       "      <td>325.0</td>\n",
       "      <td>5.184209e-24</td>\n",
       "      <td>107.232850</td>\n",
       "    </tr>\n",
       "    <tr>\n",
       "      <th>northeast</th>\n",
       "      <td>324.0</td>\n",
       "      <td>1.455431e-19</td>\n",
       "      <td>86.747629</td>\n",
       "    </tr>\n",
       "  </tbody>\n",
       "</table>\n",
       "</div>"
      ],
      "text/plain": [
       "               n             p   test stat\n",
       "southwest  325.0  6.125298e-23  102.294059\n",
       "southeast  364.0  4.953297e-15   65.877446\n",
       "northwest  325.0  5.184209e-24  107.232850\n",
       "northeast  324.0  1.455431e-19   86.747629"
      ]
     },
     "execution_count": 267,
     "metadata": {},
     "output_type": "execute_result"
    }
   ],
   "source": [
    "# Running a for loop to normaltest each group\n",
    "norm_results = {}\n",
    "for i, data in groups.items():\n",
    "    stat, p = stats.normaltest(data)\n",
    "    # Saving the p-value, test stat, and group size\n",
    "    norm_results[i] = {'n': len(data),\n",
    "                       'p':p,\n",
    "                       'test stat':stat,}\n",
    "# Converting result to a dataframe\n",
    "norm_results_df = pd.DataFrame(norm_results).T\n",
    "norm_results_df"
   ]
  },
  {
   "cell_type": "code",
   "execution_count": 268,
   "id": "fd5b44cf",
   "metadata": {
    "hidden": true
   },
   "outputs": [
    {
     "data": {
      "text/html": [
       "<div>\n",
       "<style scoped>\n",
       "    .dataframe tbody tr th:only-of-type {\n",
       "        vertical-align: middle;\n",
       "    }\n",
       "\n",
       "    .dataframe tbody tr th {\n",
       "        vertical-align: top;\n",
       "    }\n",
       "\n",
       "    .dataframe thead th {\n",
       "        text-align: right;\n",
       "    }\n",
       "</style>\n",
       "<table border=\"1\" class=\"dataframe\">\n",
       "  <thead>\n",
       "    <tr style=\"text-align: right;\">\n",
       "      <th></th>\n",
       "      <th>n</th>\n",
       "      <th>p</th>\n",
       "      <th>test stat</th>\n",
       "      <th>sig</th>\n",
       "    </tr>\n",
       "  </thead>\n",
       "  <tbody>\n",
       "    <tr>\n",
       "      <th>southwest</th>\n",
       "      <td>325.0</td>\n",
       "      <td>6.125298e-23</td>\n",
       "      <td>102.294059</td>\n",
       "      <td>True</td>\n",
       "    </tr>\n",
       "    <tr>\n",
       "      <th>southeast</th>\n",
       "      <td>364.0</td>\n",
       "      <td>4.953297e-15</td>\n",
       "      <td>65.877446</td>\n",
       "      <td>True</td>\n",
       "    </tr>\n",
       "    <tr>\n",
       "      <th>northwest</th>\n",
       "      <td>325.0</td>\n",
       "      <td>5.184209e-24</td>\n",
       "      <td>107.232850</td>\n",
       "      <td>True</td>\n",
       "    </tr>\n",
       "    <tr>\n",
       "      <th>northeast</th>\n",
       "      <td>324.0</td>\n",
       "      <td>1.455431e-19</td>\n",
       "      <td>86.747629</td>\n",
       "      <td>True</td>\n",
       "    </tr>\n",
       "  </tbody>\n",
       "</table>\n",
       "</div>"
      ],
      "text/plain": [
       "               n             p   test stat   sig\n",
       "southwest  325.0  6.125298e-23  102.294059  True\n",
       "southeast  364.0  4.953297e-15   65.877446  True\n",
       "northwest  325.0  5.184209e-24  107.232850  True\n",
       "northeast  324.0  1.455431e-19   86.747629  True"
      ]
     },
     "execution_count": 268,
     "metadata": {},
     "output_type": "execute_result"
    }
   ],
   "source": [
    "## checking sig with pandas \n",
    "norm_results_df['sig'] = norm_results_df['p'] < .05 \n",
    "norm_results_df"
   ]
  },
  {
   "cell_type": "markdown",
   "id": "154b41fa",
   "metadata": {
    "hidden": true
   },
   "source": [
    "> All groups returned a p-value that is less than .05. I therefore conclude that the assumption was not met and that the groups are NOT normally distributed. However, according to the hypothesis testing guide, the sample sizes are large enough to proceed without meeting the assumption of normal distribution."
   ]
  },
  {
   "cell_type": "markdown",
   "id": "c39b5080",
   "metadata": {
    "heading_collapsed": true,
    "hidden": true
   },
   "source": [
    "### Assumption 2: Equal Variance"
   ]
  },
  {
   "cell_type": "code",
   "execution_count": 269,
   "id": "06d69ab5",
   "metadata": {
    "hidden": true
   },
   "outputs": [
    {
     "data": {
      "text/plain": [
       "LeveneResult(statistic=5.559966758410606, pvalue=0.0008610590250786703)"
      ]
     },
     "execution_count": 269,
     "metadata": {},
     "output_type": "execute_result"
    }
   ],
   "source": [
    "# Running levene test with the '*' operator to iterate through each group\n",
    "stats.levene(*groups.values())"
   ]
  },
  {
   "cell_type": "markdown",
   "id": "25def5c2",
   "metadata": {
    "hidden": true
   },
   "source": [
    "> The stats.levene test returned a p-value that is less than .05. I therefore conclude that the assumption was not met and that the groups do NOT have equal variance."
   ]
  },
  {
   "cell_type": "markdown",
   "id": "e11cf98e",
   "metadata": {
    "heading_collapsed": true,
    "hidden": true
   },
   "source": [
    "### One-Way ANOVA Test"
   ]
  },
  {
   "cell_type": "code",
   "execution_count": 270,
   "id": "03f44aa0",
   "metadata": {
    "hidden": true
   },
   "outputs": [
    {
     "data": {
      "text/plain": [
       "F_onewayResult(statistic=2.96962669358912, pvalue=0.0308933560705201)"
      ]
     },
     "execution_count": 270,
     "metadata": {},
     "output_type": "execute_result"
    }
   ],
   "source": [
    "# Running oneway ANOVA hypothesis test\n",
    "result = stats.f_oneway(*groups.values())\n",
    "result"
   ]
  },
  {
   "cell_type": "markdown",
   "id": "3c282951",
   "metadata": {
    "hidden": true
   },
   "source": [
    "> The Oneway ANOVA test returned a significant result but does not specify which regiens were different. So a pairwise  comparison test will need to be performed."
   ]
  },
  {
   "cell_type": "markdown",
   "id": "7f2897c5",
   "metadata": {
    "heading_collapsed": true,
    "hidden": true
   },
   "source": [
    "### Tukey's pairwise Multiple Comparison Test"
   ]
  },
  {
   "cell_type": "code",
   "execution_count": 271,
   "id": "d446a0e9",
   "metadata": {
    "hidden": true
   },
   "outputs": [],
   "source": [
    "# Saving the values as charges and the labels to the regions\n",
    "values = df['charges']\n",
    "labels = df['region']"
   ]
  },
  {
   "cell_type": "code",
   "execution_count": 272,
   "id": "373cb32e",
   "metadata": {
    "hidden": true
   },
   "outputs": [
    {
     "data": {
      "text/html": [
       "<table class=\"simpletable\">\n",
       "<caption>Multiple Comparison of Means - Tukey HSD, FWER=0.05</caption>\n",
       "<tr>\n",
       "   <th>group1</th>    <th>group2</th>    <th>meandiff</th>   <th>p-adj</th>    <th>lower</th>     <th>upper</th>   <th>reject</th>\n",
       "</tr>\n",
       "<tr>\n",
       "  <td>northeast</td> <td>northwest</td>  <td>-988.8091</td> <td>0.7245</td> <td>-3428.9343</td> <td>1451.3161</td>  <td>False</td>\n",
       "</tr>\n",
       "<tr>\n",
       "  <td>northeast</td> <td>southeast</td>  <td>1329.0269</td> <td>0.4745</td> <td>-1044.9417</td> <td>3702.9955</td>  <td>False</td>\n",
       "</tr>\n",
       "<tr>\n",
       "  <td>northeast</td> <td>southwest</td> <td>-1059.4471</td> <td>0.6792</td> <td>-3499.5723</td> <td>1380.6781</td>  <td>False</td>\n",
       "</tr>\n",
       "<tr>\n",
       "  <td>northwest</td> <td>southeast</td>  <td>2317.8361</td> <td>0.0583</td>  <td>-54.1994</td>  <td>4689.8716</td>  <td>False</td>\n",
       "</tr>\n",
       "<tr>\n",
       "  <td>northwest</td> <td>southwest</td>   <td>-70.638</td>  <td>0.9999</td> <td>-2508.8826</td> <td>2367.6066</td>  <td>False</td>\n",
       "</tr>\n",
       "<tr>\n",
       "  <td>southeast</td> <td>southwest</td> <td>-2388.4741</td> <td>0.0477</td> <td>-4760.5096</td> <td>-16.4386</td>   <td>True</td> \n",
       "</tr>\n",
       "</table>"
      ],
      "text/plain": [
       "<class 'statsmodels.iolib.table.SimpleTable'>"
      ]
     },
     "execution_count": 272,
     "metadata": {},
     "output_type": "execute_result"
    }
   ],
   "source": [
    "# Performing multiple comparison test\n",
    "tukeys_results = pairwise_tukeyhsd(values, labels)\n",
    "# Displaying summary\n",
    "tukeys_results.summary()"
   ]
  },
  {
   "cell_type": "markdown",
   "id": "183e9f5b",
   "metadata": {
    "hidden": true
   },
   "source": [
    "## Conclusion\n"
   ]
  },
  {
   "cell_type": "markdown",
   "id": "db663b89",
   "metadata": {
    "hidden": true
   },
   "source": [
    "- The Tukey's multiple comparison test showed that there is a significant difference in the insurance charges between the southeast and southwest regions."
   ]
  }
 ],
 "metadata": {
  "kernelspec": {
   "display_name": "Python (dojo-env)",
   "language": "python",
   "name": "dojo-env"
  },
  "language_info": {
   "codemirror_mode": {
    "name": "ipython",
    "version": 3
   },
   "file_extension": ".py",
   "mimetype": "text/x-python",
   "name": "python",
   "nbconvert_exporter": "python",
   "pygments_lexer": "ipython3",
   "version": "3.7.12"
  },
  "toc": {
   "base_numbering": 1,
   "nav_menu": {},
   "number_sections": true,
   "sideBar": true,
   "skip_h1_title": false,
   "title_cell": "Table of Contents",
   "title_sidebar": "Contents",
   "toc_cell": false,
   "toc_position": {},
   "toc_section_display": true,
   "toc_window_display": false
  }
 },
 "nbformat": 4,
 "nbformat_minor": 5
}
