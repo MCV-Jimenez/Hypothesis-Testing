{
 "cells": [
  {
   "cell_type": "markdown",
   "id": "a6ccb1cd",
   "metadata": {},
   "source": [
    "# hypothesis Testing (CORE)\n",
    "**Marco Jimenez 7/13/2022**"
   ]
  },
  {
   "cell_type": "code",
   "execution_count": 125,
   "id": "53d0567e",
   "metadata": {},
   "outputs": [],
   "source": [
    "import pandas as pd\n",
    "import numpy as np\n",
    "import seaborn as sns\n",
    "import scipy.stats as stats"
   ]
  },
  {
   "cell_type": "code",
   "execution_count": 126,
   "id": "25c8e072",
   "metadata": {},
   "outputs": [
    {
     "data": {
      "text/html": [
       "<div>\n",
       "<style scoped>\n",
       "    .dataframe tbody tr th:only-of-type {\n",
       "        vertical-align: middle;\n",
       "    }\n",
       "\n",
       "    .dataframe tbody tr th {\n",
       "        vertical-align: top;\n",
       "    }\n",
       "\n",
       "    .dataframe thead th {\n",
       "        text-align: right;\n",
       "    }\n",
       "</style>\n",
       "<table border=\"1\" class=\"dataframe\">\n",
       "  <thead>\n",
       "    <tr style=\"text-align: right;\">\n",
       "      <th></th>\n",
       "      <th>age</th>\n",
       "      <th>sex</th>\n",
       "      <th>bmi</th>\n",
       "      <th>children</th>\n",
       "      <th>smoker</th>\n",
       "      <th>region</th>\n",
       "      <th>charges</th>\n",
       "    </tr>\n",
       "  </thead>\n",
       "  <tbody>\n",
       "    <tr>\n",
       "      <th>0</th>\n",
       "      <td>19</td>\n",
       "      <td>female</td>\n",
       "      <td>27.900</td>\n",
       "      <td>0</td>\n",
       "      <td>yes</td>\n",
       "      <td>southwest</td>\n",
       "      <td>16884.92400</td>\n",
       "    </tr>\n",
       "    <tr>\n",
       "      <th>1</th>\n",
       "      <td>18</td>\n",
       "      <td>male</td>\n",
       "      <td>33.770</td>\n",
       "      <td>1</td>\n",
       "      <td>no</td>\n",
       "      <td>southeast</td>\n",
       "      <td>1725.55230</td>\n",
       "    </tr>\n",
       "    <tr>\n",
       "      <th>2</th>\n",
       "      <td>28</td>\n",
       "      <td>male</td>\n",
       "      <td>33.000</td>\n",
       "      <td>3</td>\n",
       "      <td>no</td>\n",
       "      <td>southeast</td>\n",
       "      <td>4449.46200</td>\n",
       "    </tr>\n",
       "    <tr>\n",
       "      <th>3</th>\n",
       "      <td>33</td>\n",
       "      <td>male</td>\n",
       "      <td>22.705</td>\n",
       "      <td>0</td>\n",
       "      <td>no</td>\n",
       "      <td>northwest</td>\n",
       "      <td>21984.47061</td>\n",
       "    </tr>\n",
       "    <tr>\n",
       "      <th>4</th>\n",
       "      <td>32</td>\n",
       "      <td>male</td>\n",
       "      <td>28.880</td>\n",
       "      <td>0</td>\n",
       "      <td>no</td>\n",
       "      <td>northwest</td>\n",
       "      <td>3866.85520</td>\n",
       "    </tr>\n",
       "  </tbody>\n",
       "</table>\n",
       "</div>"
      ],
      "text/plain": [
       "   age     sex     bmi  children smoker     region      charges\n",
       "0   19  female  27.900         0    yes  southwest  16884.92400\n",
       "1   18    male  33.770         1     no  southeast   1725.55230\n",
       "2   28    male  33.000         3     no  southeast   4449.46200\n",
       "3   33    male  22.705         0     no  northwest  21984.47061\n",
       "4   32    male  28.880         0     no  northwest   3866.85520"
      ]
     },
     "execution_count": 126,
     "metadata": {},
     "output_type": "execute_result"
    }
   ],
   "source": [
    "# Loading data\n",
    "df = pd.read_csv('Data/insurance.csv') \n",
    "df.head()"
   ]
  },
  {
   "cell_type": "markdown",
   "id": "5b54d9f4",
   "metadata": {
    "heading_collapsed": true
   },
   "source": [
    "# Q1. Do smokers have higher insurance charges than non-smokers?"
   ]
  },
  {
   "cell_type": "markdown",
   "id": "f74514d5",
   "metadata": {
    "hidden": true
   },
   "source": [
    "- $H_0$ (Null Hypothesis): Insurance charges are the same for smokers and non-smokers\n",
    "- $H_A$ (Alternative Hypothesis): Insurance charges are significantly different for smokers and non-smokers\n",
    "\n",
    "The appropriate test for this hypothesis is a 2 Sample T-Test with the following assumptions\n",
    "   - No significant outliers\n",
    "   - Normality\n",
    "   - Equal Variance"
   ]
  },
  {
   "cell_type": "markdown",
   "id": "1ba2e3c5",
   "metadata": {
    "heading_collapsed": true,
    "hidden": true
   },
   "source": [
    "## Creating groups"
   ]
  },
  {
   "cell_type": "code",
   "execution_count": 127,
   "id": "5a2400d3",
   "metadata": {
    "hidden": true
   },
   "outputs": [
    {
     "data": {
      "text/html": [
       "<div>\n",
       "<style scoped>\n",
       "    .dataframe tbody tr th:only-of-type {\n",
       "        vertical-align: middle;\n",
       "    }\n",
       "\n",
       "    .dataframe tbody tr th {\n",
       "        vertical-align: top;\n",
       "    }\n",
       "\n",
       "    .dataframe thead th {\n",
       "        text-align: right;\n",
       "    }\n",
       "</style>\n",
       "<table border=\"1\" class=\"dataframe\">\n",
       "  <thead>\n",
       "    <tr style=\"text-align: right;\">\n",
       "      <th></th>\n",
       "      <th>age</th>\n",
       "      <th>sex</th>\n",
       "      <th>bmi</th>\n",
       "      <th>children</th>\n",
       "      <th>smoker</th>\n",
       "      <th>region</th>\n",
       "      <th>charges</th>\n",
       "      <th>is_smoker</th>\n",
       "    </tr>\n",
       "  </thead>\n",
       "  <tbody>\n",
       "    <tr>\n",
       "      <th>0</th>\n",
       "      <td>19</td>\n",
       "      <td>female</td>\n",
       "      <td>27.900</td>\n",
       "      <td>0</td>\n",
       "      <td>yes</td>\n",
       "      <td>southwest</td>\n",
       "      <td>16884.92400</td>\n",
       "      <td>True</td>\n",
       "    </tr>\n",
       "    <tr>\n",
       "      <th>1</th>\n",
       "      <td>18</td>\n",
       "      <td>male</td>\n",
       "      <td>33.770</td>\n",
       "      <td>1</td>\n",
       "      <td>no</td>\n",
       "      <td>southeast</td>\n",
       "      <td>1725.55230</td>\n",
       "      <td>False</td>\n",
       "    </tr>\n",
       "    <tr>\n",
       "      <th>2</th>\n",
       "      <td>28</td>\n",
       "      <td>male</td>\n",
       "      <td>33.000</td>\n",
       "      <td>3</td>\n",
       "      <td>no</td>\n",
       "      <td>southeast</td>\n",
       "      <td>4449.46200</td>\n",
       "      <td>False</td>\n",
       "    </tr>\n",
       "    <tr>\n",
       "      <th>3</th>\n",
       "      <td>33</td>\n",
       "      <td>male</td>\n",
       "      <td>22.705</td>\n",
       "      <td>0</td>\n",
       "      <td>no</td>\n",
       "      <td>northwest</td>\n",
       "      <td>21984.47061</td>\n",
       "      <td>False</td>\n",
       "    </tr>\n",
       "    <tr>\n",
       "      <th>4</th>\n",
       "      <td>32</td>\n",
       "      <td>male</td>\n",
       "      <td>28.880</td>\n",
       "      <td>0</td>\n",
       "      <td>no</td>\n",
       "      <td>northwest</td>\n",
       "      <td>3866.85520</td>\n",
       "      <td>False</td>\n",
       "    </tr>\n",
       "  </tbody>\n",
       "</table>\n",
       "</div>"
      ],
      "text/plain": [
       "   age     sex     bmi  children smoker     region      charges  is_smoker\n",
       "0   19  female  27.900         0    yes  southwest  16884.92400       True\n",
       "1   18    male  33.770         1     no  southeast   1725.55230      False\n",
       "2   28    male  33.000         3     no  southeast   4449.46200      False\n",
       "3   33    male  22.705         0     no  northwest  21984.47061      False\n",
       "4   32    male  28.880         0     no  northwest   3866.85520      False"
      ]
     },
     "execution_count": 127,
     "metadata": {},
     "output_type": "execute_result"
    }
   ],
   "source": [
    "df['is_smoker'] = df['smoker'].str.contains('yes', case=False)\n",
    "df.head()"
   ]
  },
  {
   "cell_type": "code",
   "execution_count": 128,
   "id": "9814642b",
   "metadata": {
    "hidden": true
   },
   "outputs": [
    {
     "name": "stdout",
     "output_type": "stream",
     "text": [
      "There are 274 smokers.\n",
      "There are 1064 non smokers.\n"
     ]
    }
   ],
   "source": [
    "# Separating groups into two variables\n",
    "smokers = df.loc[df['is_smoker']==True, ['charges','is_smoker']]\n",
    "non_smoker = df.loc[df['is_smoker']==False, ['charges','is_smoker']]\n",
    "\n",
    "print(f\"There are {len(smokers)} smokers.\" )\n",
    "print(f\"There are {len(non_smokers)} non smokers.\" )"
   ]
  },
  {
   "cell_type": "code",
   "execution_count": 129,
   "id": "5a870082",
   "metadata": {
    "hidden": true
   },
   "outputs": [],
   "source": [
    "# Creating features for testing\n",
    "smokers_grp = smokers['charges']\n",
    "non_smokers_grp = non_smoker['charges']"
   ]
  },
  {
   "cell_type": "markdown",
   "id": "4cef7062",
   "metadata": {
    "heading_collapsed": true,
    "hidden": true
   },
   "source": [
    "## 2 Sample t-test"
   ]
  },
  {
   "cell_type": "markdown",
   "id": "34e86bbc",
   "metadata": {
    "heading_collapsed": true,
    "hidden": true
   },
   "source": [
    "### Assumption 1: There are no outliers"
   ]
  },
  {
   "cell_type": "code",
   "execution_count": 130,
   "id": "8fddbad0",
   "metadata": {
    "hidden": true
   },
   "outputs": [
    {
     "data": {
      "text/plain": [
       "0"
      ]
     },
     "execution_count": 130,
     "metadata": {},
     "output_type": "execute_result"
    }
   ],
   "source": [
    "# Testing for outliers in smokers group\n",
    "outliers_y = np.abs(stats.zscore(smokers_grp)) > 3\n",
    "outliers_y.sum()"
   ]
  },
  {
   "cell_type": "code",
   "execution_count": 131,
   "id": "6b980604",
   "metadata": {
    "hidden": true
   },
   "outputs": [
    {
     "data": {
      "text/plain": [
       "24"
      ]
     },
     "execution_count": 131,
     "metadata": {},
     "output_type": "execute_result"
    }
   ],
   "source": [
    "# Testing for outliers in non_smokers group\n",
    "outliers_n = np.abs(stats.zscore(non_smokers_grp)) > 3\n",
    "outliers_n.sum()"
   ]
  },
  {
   "cell_type": "code",
   "execution_count": 132,
   "id": "8758805f",
   "metadata": {
    "hidden": true
   },
   "outputs": [
    {
     "data": {
      "text/plain": [
       "1        1725.55230\n",
       "2        4449.46200\n",
       "3       21984.47061\n",
       "4        3866.85520\n",
       "5        3756.62160\n",
       "           ...     \n",
       "1332    11411.68500\n",
       "1333    10600.54830\n",
       "1334     2205.98080\n",
       "1335     1629.83350\n",
       "1336     2007.94500\n",
       "Name: charges, Length: 1040, dtype: float64"
      ]
     },
     "execution_count": 132,
     "metadata": {},
     "output_type": "execute_result"
    }
   ],
   "source": [
    "# Removing outliers from non_smokers group\n",
    "non_smokers_grp.loc[~outliers_n]"
   ]
  },
  {
   "cell_type": "markdown",
   "id": "6e154644",
   "metadata": {
    "hidden": true
   },
   "source": [
    "> The outliers have been removed and now the data meets the assumption of no outliers"
   ]
  },
  {
   "cell_type": "markdown",
   "id": "5b46df33",
   "metadata": {
    "heading_collapsed": true,
    "hidden": true
   },
   "source": [
    "### Assumption 2: Both groups are normally distributed"
   ]
  },
  {
   "cell_type": "code",
   "execution_count": 133,
   "id": "7cacba58",
   "metadata": {
    "hidden": true
   },
   "outputs": [
    {
     "name": "stdout",
     "output_type": "stream",
     "text": [
      "NormaltestResult(statistic=61.03941356533816, pvalue=5.564930630036463e-14)\n"
     ]
    },
    {
     "data": {
      "text/plain": [
       "True"
      ]
     },
     "execution_count": 133,
     "metadata": {},
     "output_type": "execute_result"
    }
   ],
   "source": [
    "# Checking distribution in smokers group\n",
    "result = stats.normaltest(smokers_grp)\n",
    "print(result)\n",
    "result.pvalue < .05 "
   ]
  },
  {
   "cell_type": "code",
   "execution_count": 134,
   "id": "ff79c0f9",
   "metadata": {
    "hidden": true
   },
   "outputs": [
    {
     "name": "stdout",
     "output_type": "stream",
     "text": [
      "NormaltestResult(statistic=316.4528082392722, pvalue=1.9193129759002216e-69)\n"
     ]
    },
    {
     "data": {
      "text/plain": [
       "True"
      ]
     },
     "execution_count": 134,
     "metadata": {},
     "output_type": "execute_result"
    }
   ],
   "source": [
    "# Checking distribution in smokers group\n",
    "result = stats.normaltest(non_smokers_grp)\n",
    "print(result)\n",
    "result.pvalue < .05 "
   ]
  },
  {
   "cell_type": "markdown",
   "id": "705b7cf1",
   "metadata": {
    "hidden": true
   },
   "source": [
    "> Both groups returned a p-value that is less than .05. I therefore reject the assumptions null and support the alternative hypothesis that the groups are NOT normally distributed. However, according to the hypothesis testing guide, the sample sizes are large enough to proceed without meeting the assumption of normal distribution."
   ]
  },
  {
   "cell_type": "markdown",
   "id": "665d7661",
   "metadata": {
    "heading_collapsed": true,
    "hidden": true
   },
   "source": [
    "### Assumption 3: Both groups have equal variance"
   ]
  },
  {
   "cell_type": "code",
   "execution_count": 135,
   "id": "7d98c1f1",
   "metadata": {
    "hidden": true
   },
   "outputs": [
    {
     "name": "stdout",
     "output_type": "stream",
     "text": [
      "LeveneResult(statistic=332.6135162726081, pvalue=1.5593284881803726e-66)\n"
     ]
    },
    {
     "data": {
      "text/plain": [
       "True"
      ]
     },
     "execution_count": 135,
     "metadata": {},
     "output_type": "execute_result"
    }
   ],
   "source": [
    "# Checking variance w/ stats.levene test\n",
    "result = stats.levene(smokers_grp, non_smokers_grp)\n",
    "print(result)\n",
    "result.pvalue<.05"
   ]
  },
  {
   "cell_type": "markdown",
   "id": "c24696b8",
   "metadata": {
    "hidden": true
   },
   "source": [
    "> The stats.levene test returned a p-value that is less than .05. Therefore I reject the assumptions null hypothesis and support the alternative hypothesis that the two groups do NOT have equal variance."
   ]
  },
  {
   "cell_type": "markdown",
   "id": "0c4efb52",
   "metadata": {
    "heading_collapsed": true,
    "hidden": true
   },
   "source": [
    "## Statistical Test"
   ]
  },
  {
   "cell_type": "markdown",
   "id": "4603427a",
   "metadata": {
    "hidden": true
   },
   "source": [
    "> Since the two groups did not meet the assumption of equal variance, I will run the stats.ttest using equal_var=False, making it a Welch's T-test to account for the unequal variance"
   ]
  },
  {
   "cell_type": "code",
   "execution_count": 136,
   "id": "b05e6207",
   "metadata": {
    "hidden": true
   },
   "outputs": [
    {
     "name": "stdout",
     "output_type": "stream",
     "text": [
      "Ttest_indResult(statistic=32.751887766341824, pvalue=5.88946444671698e-103)\n"
     ]
    },
    {
     "data": {
      "text/plain": [
       "True"
      ]
     },
     "execution_count": 136,
     "metadata": {},
     "output_type": "execute_result"
    }
   ],
   "source": [
    "result = stats.ttest_ind(smokers_grp, non_smokers_grp, equal_var=False)\n",
    "print(result)\n",
    "result.pvalue<.05"
   ]
  },
  {
   "cell_type": "markdown",
   "id": "c2263795",
   "metadata": {
    "heading_collapsed": true,
    "hidden": true
   },
   "source": [
    "## Q1 Conclusion"
   ]
  },
  {
   "cell_type": "markdown",
   "id": "6f6ba68c",
   "metadata": {
    "hidden": true
   },
   "source": [
    "- The Welch's T-test returned a p-value that is less than .05. I therefore reject the null hypothesis and support the alternative hypothesis that Insurance charges are significantly different for smokers and non-smokers."
   ]
  },
  {
   "cell_type": "code",
   "execution_count": 137,
   "id": "c5f9824f",
   "metadata": {
    "hidden": true
   },
   "outputs": [
    {
     "name": "stdout",
     "output_type": "stream",
     "text": [
      "Average insurance charges for smokers 32050.23\n",
      "Average insurance charges for non_smokers 8434.27\n"
     ]
    }
   ],
   "source": [
    "# Displaying average insurance charges for each group\n",
    "print(f'Average insurance charges for smokers {smokers_grp.mean():.2f}')\n",
    "print(f'Average insurance charges for non_smokers {non_smokers_grp.mean():.2f}')"
   ]
  },
  {
   "cell_type": "markdown",
   "id": "5a231c18",
   "metadata": {
    "hidden": true
   },
   "source": [
    "> Smokers on average are charged significantly higher amounts than non smokers"
   ]
  },
  {
   "cell_type": "code",
   "execution_count": 138,
   "id": "f2d595d5",
   "metadata": {
    "hidden": true
   },
   "outputs": [
    {
     "data": {
      "text/plain": [
       "<matplotlib.axes._subplots.AxesSubplot at 0x22f7f81f188>"
      ]
     },
     "execution_count": 138,
     "metadata": {},
     "output_type": "execute_result"
    },
    {
     "data": {
      "image/png": "[encoded data removed]",
      "text/plain": [
       "<Figure size 432x288 with 1 Axes>"
      ]
     },
     "metadata": {
      "needs_background": "light"
     },
     "output_type": "display_data"
    }
   ],
   "source": [
    "# Visualizing the difference\n",
    "plot = pd.concat([smokers.loc[~outliers_y],\n",
    "                  non_smoker.loc[~outliers_n]])\n",
    "sns.barplot(data=plot, x='is_smoker', y='charges')"
   ]
  },
  {
   "cell_type": "markdown",
   "id": "c5ecd0b3",
   "metadata": {},
   "source": [
    "# Q2. Are men more likely to smoke than women?"
   ]
  },
  {
   "cell_type": "markdown",
   "id": "fb90f801",
   "metadata": {},
   "source": [
    "- $H_0$ (Null Hypothesis): There is no relationship between sex and if someone is a smoker.\n",
    "- $H_A$ (Alternative Hypothesis): A persons sex influences whether or not they are a smoker.\n",
    "\n",
    "The appropriate test for this hypothesis is a Chi-Squared test with the following assumptions\n",
    "   - There are two categorical values(ordinal or nominal)\n",
    "   - The outcomes are independent"
   ]
  },
  {
   "cell_type": "markdown",
   "id": "a455d597",
   "metadata": {},
   "source": [
    "### Chi-Squared Test"
   ]
  },
  {
   "cell_type": "code",
   "execution_count": 139,
   "id": "15f3f1e9",
   "metadata": {},
   "outputs": [
    {
     "data": {
      "image/png": "[encoded data removed]",
      "text/plain": [
       "<Figure size 432x288 with 1 Axes>"
      ]
     },
     "metadata": {
      "needs_background": "light"
     },
     "output_type": "display_data"
    }
   ],
   "source": [
    "# Visualizing smokers grouped by sex\n",
    "ax = sns.countplot(data=df, x='sex',hue='smoker',)\n",
    "ax.set_title(\"Number of Smokers by Sex\");"
   ]
  },
  {
   "cell_type": "code",
   "execution_count": 140,
   "id": "b6ae47a4",
   "metadata": {},
   "outputs": [
    {
     "data": {
      "text/html": [
       "<div>\n",
       "<style scoped>\n",
       "    .dataframe tbody tr th:only-of-type {\n",
       "        vertical-align: middle;\n",
       "    }\n",
       "\n",
       "    .dataframe tbody tr th {\n",
       "        vertical-align: top;\n",
       "    }\n",
       "\n",
       "    .dataframe thead th {\n",
       "        text-align: right;\n",
       "    }\n",
       "</style>\n",
       "<table border=\"1\" class=\"dataframe\">\n",
       "  <thead>\n",
       "    <tr style=\"text-align: right;\">\n",
       "      <th>smoker</th>\n",
       "      <th>no</th>\n",
       "      <th>yes</th>\n",
       "    </tr>\n",
       "    <tr>\n",
       "      <th>sex</th>\n",
       "      <th></th>\n",
       "      <th></th>\n",
       "    </tr>\n",
       "  </thead>\n",
       "  <tbody>\n",
       "    <tr>\n",
       "      <th>female</th>\n",
       "      <td>547</td>\n",
       "      <td>115</td>\n",
       "    </tr>\n",
       "    <tr>\n",
       "      <th>male</th>\n",
       "      <td>517</td>\n",
       "      <td>159</td>\n",
       "    </tr>\n",
       "  </tbody>\n",
       "</table>\n",
       "</div>"
      ],
      "text/plain": [
       "smoker   no  yes\n",
       "sex             \n",
       "female  547  115\n",
       "male    517  159"
      ]
     },
     "execution_count": 140,
     "metadata": {},
     "output_type": "execute_result"
    }
   ],
   "source": [
    "# Calculating contingency table\n",
    "table = pd.crosstab(df['sex'], df['smoker'])\n",
    "table"
   ]
  },
  {
   "cell_type": "code",
   "execution_count": 141,
   "id": "37dde5b8",
   "metadata": {},
   "outputs": [],
   "source": [
    "# Running stats.chi2 test and saving output\n",
    "result = stats.chi2_contingency(table)\n",
    "chi2, p, deg_free, expected_vals = result"
   ]
  },
  {
   "cell_type": "code",
   "execution_count": 142,
   "id": "46f282aa",
   "metadata": {},
   "outputs": [
    {
     "name": "stdout",
     "output_type": "stream",
     "text": [
      "0.006548143503580696\n"
     ]
    },
    {
     "data": {
      "text/plain": [
       "True"
      ]
     },
     "execution_count": 142,
     "metadata": {},
     "output_type": "execute_result"
    }
   ],
   "source": [
    "# Checking p-value after test\n",
    "print(p)\n",
    "p<.05"
   ]
  },
  {
   "cell_type": "markdown",
   "id": "341804e3",
   "metadata": {},
   "source": [
    "## Conclusion"
   ]
  },
  {
   "cell_type": "markdown",
   "id": "9b96c234",
   "metadata": {},
   "source": [
    "- The Chi-Squared test returned a p-value that is less than .05. I therefore reject the null hypothesis and support the alternative hypothesis that a persons sex influences whether or not they are a smoker."
   ]
  }
 ],
 "metadata": {
  "kernelspec": {
   "display_name": "Python (dojo-env)",
   "language": "python",
   "name": "dojo-env"
  },
  "language_info": {
   "codemirror_mode": {
    "name": "ipython",
    "version": 3
   },
   "file_extension": ".py",
   "mimetype": "text/x-python",
   "name": "python",
   "nbconvert_exporter": "python",
   "pygments_lexer": "ipython3",
   "version": "3.7.12"
  },
  "toc": {
   "base_numbering": 1,
   "nav_menu": {},
   "number_sections": true,
   "sideBar": true,
   "skip_h1_title": false,
   "title_cell": "Table of Contents",
   "title_sidebar": "Contents",
   "toc_cell": false,
   "toc_position": {},
   "toc_section_display": true,
   "toc_window_display": false
  }
 },
 "nbformat": 4,
 "nbformat_minor": 5
}
